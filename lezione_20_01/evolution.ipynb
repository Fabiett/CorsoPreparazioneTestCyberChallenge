{
 "cells": [
  {
   "attachments": {},
   "cell_type": "markdown",
   "metadata": {},
   "source": [
    "# Malware Evolution - Test di Ingresso CyberChallenge.it 2021"
   ]
  },
  {
   "attachments": {},
   "cell_type": "markdown",
   "metadata": {},
   "source": [
    "### Impostazione del problema\n",
    "    1. Processare l'input e predisposizione delle variabili con cui andremo a lavorare\n",
    "    3. Per ogni cella della matrice, contare quante delle sue cella adiacenti non sono vuote\n",
    "    4. Conoscendo il numero di celle adiacenti non vuote, trasformare ogni cella nella sua nuova versione\n",
    "    5. Ripetere questo procedimento per n volte (round)\n",
    "    6. Visualizzare a schermo il risultato dei nostri sforzi"
   ]
  },
  {
   "attachments": {},
   "cell_type": "markdown",
   "metadata": {},
   "source": [
    "### 1. Processare l'input e predisposizione delle variabili con cui andremo a lavorare"
   ]
  },
  {
   "cell_type": "code",
   "execution_count": 1,
   "metadata": {},
   "outputs": [
    {
     "name": "stdout",
     "output_type": "stream",
     "text": [
      "'10 5 1\\n...+.\\n**++*\\n.*.**\\n.+*+*\\n*+*+*\\n+..++\\n+++*.\\n*....\\n.+..*\\n*+***\\n'\n"
     ]
    }
   ],
   "source": [
    "#!/bin/python3\n",
    "from pprint import pprint\n",
    "from copy import deepcopy\n",
    "\n",
    "# Opening file descriptor\n",
    "with open('/home/fabietto/Downloads/evo/input/input1.txt') as f:\n",
    "    data = f.read() # Dump di tutto il file fino alla fine, compresi i new line\n",
    "    # data = f.readline() # Dump di una linea del file, si ferma al primo new line\n",
    "    # data = f.readlines() # Dump di tutte le righe del file, sotto forma di lista\n",
    "\n",
    "pprint(data)"
   ]
  },
  {
   "attachments": {},
   "cell_type": "markdown",
   "metadata": {},
   "source": [
    "#### Conversione in lista"
   ]
  },
  {
   "cell_type": "code",
   "execution_count": null,
   "metadata": {},
   "outputs": [],
   "source": [
    "#Conversione data da str a lista (1 elemento per ogni new line)\n",
    "data = data.strip().split('\\n')\n",
    "pprint(data)"
   ]
  },
  {
   "attachments": {},
   "cell_type": "markdown",
   "metadata": {},
   "source": [
    "#### Salvataggio delle prime variabili"
   ]
  },
  {
   "cell_type": "code",
   "execution_count": null,
   "metadata": {},
   "outputs": [],
   "source": [
    "rows, columns, rounds_number = map(int,data.pop(0).split(' '))\n",
    "print(rows, columns, rounds_number)"
   ]
  },
  {
   "attachments": {},
   "cell_type": "markdown",
   "metadata": {},
   "source": [
    "#### Creazione delle matrice con i dati di input"
   ]
  },
  {
   "cell_type": "code",
   "execution_count": null,
   "metadata": {},
   "outputs": [],
   "source": [
    "matrix = []\n",
    "for line in  data: \n",
    "    temp_list = []\n",
    "    for c in line:\n",
    "        temp_list += c\n",
    "    matrix.append(temp_list)\n",
    "\n",
    "# Equals to\n",
    "# for line in data: \n",
    "#   matrix.append([c for c in line]) Jupyter Cell Tags support for VS Code\n",
    "\n",
    "\n",
    "pprint(matrix)"
   ]
  },
  {
   "attachments": {},
   "cell_type": "markdown",
   "metadata": {},
   "source": [
    "Capiamo un pò come funzionano le coordinate di questa matrice..."
   ]
  },
  {
   "cell_type": "code",
   "execution_count": null,
   "metadata": {},
   "outputs": [],
   "source": [
    "pprint(matrix[0][0]) # Primo elemento della prima riga\n",
    "\n",
    "pprint(matrix[0][1]) # Secondo elemento della prima riga "
   ]
  },
  {
   "attachments": {},
   "cell_type": "markdown",
   "metadata": {},
   "source": [
    "Quindi nelle prime quadra ci vanno le coordinate in y, e nelle seconde ci vanno le coordinate in x, e di conseguenza, per stampare la casella a destra di quella al centro..."
   ]
  },
  {
   "cell_type": "code",
   "execution_count": null,
   "metadata": {},
   "outputs": [],
   "source": [
    "x = 3 \n",
    "y = 2\n",
    "pprint(matrix[y][x])"
   ]
  },
  {
   "attachments": {},
   "cell_type": "markdown",
   "metadata": {},
   "source": [
    "#### Struttura dati dei tipi di celle"
   ]
  },
  {
   "attachments": {},
   "cell_type": "markdown",
   "metadata": {},
   "source": [
    "Non è un passo strettamente necessario, ma ci aiuterà a non perdere la testa cercando di ricordarci i tipi di celle"
   ]
  },
  {
   "cell_type": "code",
   "execution_count": null,
   "metadata": {},
   "outputs": [],
   "source": [
    "cell_type = {\n",
    "    'empty'   : '.', \n",
    "    'data'    : '+', \n",
    "    'malware' : '*'\n",
    "}\n",
    "\n",
    "print(cell_type['empty'])\n",
    "print(cell_type['data'])\n",
    "print(cell_type['malware'])"
   ]
  },
  {
   "attachments": {},
   "cell_type": "markdown",
   "metadata": {},
   "source": [
    "### 2. Per ogni cella della matrice, contare quante delle sue cella adiacenti non sono vuote"
   ]
  },
  {
   "attachments": {},
   "cell_type": "markdown",
   "metadata": {},
   "source": [
    "Come possiamo iterare intorno allo nostra cella?\n",
    "\n",
    "Se la nostra cella è [y][x], gli offset saranno questi:\n",
    "\n",
    "```\n",
    "(y - 1, x - 1)     (y - 1, x + 0)      (y - 1, x + 1)\n",
    "(y + 0, x - 1)     (y + 0, x + 0)      (y + 0, y + 1)\n",
    "(y + 1, x - 1)     (y + 1, x + 0)      (y + 1, x + 1)\n",
    "```"
   ]
  },
  {
   "cell_type": "code",
   "execution_count": null,
   "metadata": {},
   "outputs": [],
   "source": [
    "x = y = 4\n",
    "\n",
    "non_empty = 0\n",
    "\n",
    "for offset_y in range(-1, 2): # -1, 0, +1 \n",
    "    for offset_x in range(-1, 2):\n",
    "\n",
    "        # Condizioni per non uscire fuori dai limiti delle nostra matrice\n",
    "\n",
    "        if(x + offset_x > columns - 1):\n",
    "            print('skipping this cell, too far to the right')\n",
    "            continue\n",
    "\n",
    "        if(x + offset_x < 0):\n",
    "            print('skipping this cell, too far to the left')\n",
    "            continue\n",
    "\n",
    "        if(y + offset_y > rows - 1):\n",
    "            print('skipping this cell, too far down')\n",
    "            continue\n",
    "\n",
    "        if(y + offset_y < 0):\n",
    "            print('skipping this cell, too far up')\n",
    "            continue\n",
    "\n",
    "        if(offset_x == 0 and offset_y == 0):\n",
    "            print('skipping this cell, same element')\n",
    "            continue\n",
    "\n",
    "        print(matrix[y + offset_y][x + offset_x])\n",
    "        \n",
    "        if(matrix[y + offset_y][x + offset_x] != cell_type['empty']): non_empty += 1\n",
    "\n",
    "print(non_empty)"
   ]
  },
  {
   "attachments": {},
   "cell_type": "markdown",
   "metadata": {},
   "source": [
    "### 3. Conoscendo il numero di celle adiacenti non vuote, trasformare ogni cella nella sua nuova versione"
   ]
  },
  {
   "attachments": {},
   "cell_type": "markdown",
   "metadata": {},
   "source": [
    "Scriviamo una funzione che ci semplifiche la vita"
   ]
  },
  {
   "cell_type": "code",
   "execution_count": null,
   "metadata": {},
   "outputs": [],
   "source": [
    "def transform(cell_content : str, adjacent_non_empty):\n",
    "    global cell_type\n",
    "    match cell_content: \n",
    "        case '.':\n",
    "            if(adjacent_non_empty > 4):\n",
    "                return cell_type['data']\n",
    "            else:\n",
    "                return cell_type['empty']\n",
    "        case '+': \n",
    "            if(adjacent_non_empty > 4):\n",
    "                return cell_type['malware']\n",
    "            elif(adjacent_non_empty < 4):\n",
    "                return cell_type['empty']\n",
    "            else:\n",
    "                return cell_type['data']\n",
    "        case '*':\n",
    "            if(adjacent_non_empty > 4):\n",
    "                return cell_type['data']\n",
    "            elif(adjacent_non_empty < 4):\n",
    "                return cell_type['empty']\n",
    "            else:\n",
    "                return cell_type['malware']"
   ]
  },
  {
   "attachments": {},
   "cell_type": "markdown",
   "metadata": {},
   "source": [
    "### 4. Ripetere questo procedimento per n volte (round)"
   ]
  },
  {
   "cell_type": "code",
   "execution_count": null,
   "metadata": {},
   "outputs": [],
   "source": [
    "for n in range(rounds_number):\n",
    "    new_matrix = deepcopy(matrix)\n",
    "    for y in range(rows):\n",
    "        for x in range(columns):\n",
    "            print(f\"Analyzing {y=}{x=} == {matrix[y][x]}\")\n",
    "            non_empty = []\n",
    "            for offset_y in range(-1, 2): \n",
    "                for offset_x in range(-1, 2):\n",
    "                    # Condizioni per non uscire fuori dai limiti delle nostra matrice\n",
    "                    if(x + offset_x > columns - 1):\n",
    "                        print('skipping this cell, too far to the right')\n",
    "                        continue\n",
    "                    if(x + offset_x < 0):\n",
    "                        print('skipping this cell, too far to the left')\n",
    "                        continue\n",
    "                    if(y + offset_y > rows - 1):\n",
    "                        print('skipping this cell, too far down')\n",
    "                        continue\n",
    "                    if(y + offset_y < 0):\n",
    "                        print('skipping this cell, too far up')\n",
    "                        continue\n",
    "                    if(offset_x == 0 and offset_y == 0):\n",
    "                        print('skipping this cell, same element')\n",
    "                        continue\n",
    "                    print(matrix[y + offset_y][x + offset_x])\n",
    "                    if(matrix[y + offset_y][x + offset_x] != cell_type['empty']): non_empty.append(matrix[y + offset_y][x + offset_x]) \n",
    "            print(f\"{non_empty=}\\nThis cell is now a {transform(matrix[y][x], len(non_empty))}\" + '\\n' + '*'*10)\n",
    "            new_matrix[y][x] = transform(matrix[y][x], len(non_empty))\n",
    "    matrix = new_matrix\n",
    "\n",
    "pprint(matrix)"
   ]
  },
  {
   "attachments": {},
   "cell_type": "markdown",
   "metadata": {},
   "source": [
    "### 5. Visualizzare a schermo il risultato dei nostri sforzi"
   ]
  },
  {
   "cell_type": "code",
   "execution_count": null,
   "metadata": {},
   "outputs": [],
   "source": [
    "for row in matrix: \n",
    "    for c in row: \n",
    "        print(c, end = '')\n",
    "    print()"
   ]
  }
 ],
 "metadata": {
  "kernelspec": {
   "display_name": "Python 3",
   "language": "python",
   "name": "python3"
  },
  "language_info": {
   "codemirror_mode": {
    "name": "ipython",
    "version": 3
   },
   "file_extension": ".py",
   "mimetype": "text/x-python",
   "name": "python",
   "nbconvert_exporter": "python",
   "pygments_lexer": "ipython3",
   "version": "3.11.0"
  },
  "orig_nbformat": 4,
  "vscode": {
   "interpreter": {
    "hash": "e7370f93d1d0cde622a1f8e1c04877d8463912d04d973331ad4851f04de6915a"
   }
  }
 },
 "nbformat": 4,
 "nbformat_minor": 2
}
