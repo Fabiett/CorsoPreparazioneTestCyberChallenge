{
 "cells": [
  {
   "cell_type": "markdown",
   "metadata": {},
   "source": [
    "# Esercizi sui Dizionari\n",
    "\n",
    "## Esercizio 1\n",
    "\n",
    "Creare un dizionario che abbia come valori i giorni della settimana, e come chiavi la posizione del giorno all'interno della settimana."
   ]
  },
  {
   "cell_type": "code",
   "execution_count": null,
   "metadata": {},
   "outputs": [],
   "source": [
    "giorni_settimana = {}\n",
    "\n",
    "# ...soluzione...\n",
    "\n",
    "print(giorni_settimana)"
   ]
  },
  {
   "cell_type": "markdown",
   "metadata": {},
   "source": [
    "## Esercizio 2\n",
    "\n",
    "\n",
    "Rimuovi dal seguente dizionario tutti gli animali che non sono mammiferi"
   ]
  },
  {
   "cell_type": "code",
   "execution_count": null,
   "metadata": {},
   "outputs": [],
   "source": [
    "animali = {\n",
    "    'cane': 'mammifero',\n",
    "    'mosca': 'insetto',\n",
    "    'serpente': 'rettile',\n",
    "    'gatto': 'mammifero',\n",
    "    'lucertola': 'rettile',\n",
    "    'gallina': 'uccello',\n",
    "    'lupo': 'mammifero',\n",
    "    'bruco': 'insetto',\n",
    "    'coniglio': 'mammifero',\n",
    "}\n",
    "\n",
    "# ...soluzione...\n",
    "\n",
    "print(animali)"
   ]
  },
  {
   "cell_type": "markdown",
   "metadata": {},
   "source": [
    "## Esercizio 3\n",
    "\n",
    "Data la parola **\"supercalifragilistichespiralidoso\"**, creare un dizionario che abbia come chiavi le lettere della parola e come valori il numero di volte che quella lettera compare nella parola"
   ]
  },
  {
   "cell_type": "code",
   "execution_count": null,
   "metadata": {},
   "outputs": [],
   "source": [
    "parola = \"supercalifragilistichespiralidoso\"\n",
    "dizionario = {}\n",
    "\n",
    "# ...soluzione...\n",
    "\n",
    "print(dizionario)"
   ]
  },
  {
   "cell_type": "markdown",
   "metadata": {},
   "source": [
    "## Esercizio 4\n",
    "\n",
    "Dati due dizionari contenenti il nome e il prezzo di frutta e verdura, crea un terzo dizionario `spesa` che è l'unione dei due."
   ]
  },
  {
   "cell_type": "code",
   "execution_count": null,
   "metadata": {},
   "outputs": [],
   "source": [
    "frutta = {'mela': 1.0, 'pera': 1.2, 'banana': 1.5, 'arancia': 1.8, 'kiwi': 2.0}\n",
    "verdura = {'carota': 0.8, 'patata': 0.5, 'zucchina': 1.0, 'cavolo': 1.2, 'sedano': 1.5}\n",
    "spesa = {}\n",
    "\n",
    "# ...soluzione...\n",
    "\n",
    "print(spesa)"
   ]
  },
  {
   "cell_type": "markdown",
   "metadata": {},
   "source": [
    "# Esercizi sulle Funzioni"
   ]
  },
  {
   "cell_type": "markdown",
   "metadata": {},
   "source": [
    "## Esercizio 1\n",
    "\n",
    "Scrivi una funzione che, prendendo come parametro un nome e un'età, stampi:\n",
    "- `\"{nome}, puoi prendere la patente!\"` se l'utente è maggiorenne\n",
    "- `\"Mi dispiace, {nome}, devi aspettare ancora qualche anno!\"` se l'utente è minorenne"
   ]
  },
  {
   "cell_type": "code",
   "execution_count": null,
   "metadata": {},
   "outputs": [],
   "source": [
    "def benvenuto(nome, eta):\n",
    "    # ... scrivi qui la funzione ...\n",
    "    pass\n",
    "\n",
    "benvenuto(\"Mario\", 30)\n",
    "benvenuto(\"Luigi\", 25)\n",
    "benvenuto(\"Giovanni\", 15)\n",
    "benvenuto(\"Paolo\", 40)"
   ]
  },
  {
   "cell_type": "markdown",
   "metadata": {},
   "source": [
    "## Esercizio 2\n",
    "\n",
    "Scrivi una funzione che prende come parametro un dizionario che ha:\n",
    "- Come `chiave`, il **nome dello studente**\n",
    "- Come `valore` il **voto dello studente**\n",
    "\n",
    "e che stampa:\n",
    "\n",
    "- `\"{nome}, sei stato promosso!\"` se il suo voto è maggiore o uguale a 18\n",
    "- `\"{nome}, mi dispiace, devi riprovarci...\"` se il suo voto è inferiore a 18"
   ]
  },
  {
   "cell_type": "code",
   "execution_count": null,
   "metadata": {},
   "outputs": [],
   "source": [
    "def voti(studenti):\n",
    "    # ... scrivi qui la funzione ...\n",
    "    pass\n",
    "\n",
    "studenti = {\n",
    "    \"Mario\": 30,\n",
    "    \"Luigi\": 25,\n",
    "    \"Giovanni\": 15,\n",
    "    \"Paolo\": 12,\n",
    "    \"Luca\": 20\n",
    "}\n",
    "\n",
    "voti(studenti)"
   ]
  },
  {
   "cell_type": "markdown",
   "metadata": {},
   "source": [
    "## Esercizio 3\n",
    "\n",
    "Riscrivi una funzione `potenza(n, e)`, che **restituisca** (non stampi) il valore di $n^e$ (ovviamente senza usare l'operatore `**` e analoghi :P)"
   ]
  },
  {
   "cell_type": "code",
   "execution_count": null,
   "metadata": {},
   "outputs": [],
   "source": [
    "def potenza(n, e):\n",
    "    # ... scrivi qui la funzione ...\n",
    "    pass\n",
    "\n",
    "print(\"2^3 =\", potenza(2, 3))\n",
    "print(\"5^2 =\", potenza(5, 2))\n",
    "print(\"10^0 =\", potenza(10, 0))"
   ]
  },
  {
   "cell_type": "markdown",
   "metadata": {},
   "source": [
    "## Esercizio 4\n",
    "\n",
    "Scrivi una funzione in python che, presa una stringa, restituisce `True` se è **palindroma**, `False` altrimenti"
   ]
  },
  {
   "cell_type": "code",
   "execution_count": null,
   "metadata": {},
   "outputs": [],
   "source": [
    "def isPalindrome(parola):\n",
    "    # ... scrivi qui la funzione ...\n",
    "    pass\n",
    "\n",
    "print(\"anna è una parola palindroma?\", isPalindrome(\"anna\"))\n",
    "print(\"casa è una parola palindroma?\", isPalindrome(\"casa\"))\n",
    "print(\"oro è una parola palindroma?\", isPalindrome(\"oro\"))\n",
    "print(\"radar è una parola palindroma?\", isPalindrome(\"radar\"))"
   ]
  },
  {
   "cell_type": "markdown",
   "metadata": {},
   "source": [
    "# Esercizi su List Comprehension e Funzioni Utili"
   ]
  },
  {
   "cell_type": "markdown",
   "metadata": {},
   "source": [
    "## Esercizio 1\n",
    "\n",
    "Scrivere un programma che, presa una lista di parole, stampi la stessa lista ma con le parole scritte all'incontrario, utilizzando la funzione `map()`"
   ]
  },
  {
   "cell_type": "code",
   "execution_count": null,
   "metadata": {},
   "outputs": [],
   "source": [
    "parole = [\"casa\", \"albero\", \"radar\", \"oro\", \"anna\", \"cane\", \"gatto\", \"treno\", \"mela\"]\n",
    "\n",
    "# ...soluzione...\n",
    "\n",
    "print(parole)"
   ]
  },
  {
   "cell_type": "markdown",
   "metadata": {},
   "source": [
    "## Esercizio 2\n",
    "\n",
    "Scrivere un programma che chieda all'utente due numeri, $n$ e $e$, e che stampi a schermo la lista dei primi $n$ interi, elevati alla potenza $e$"
   ]
  },
  {
   "cell_type": "code",
   "execution_count": null,
   "metadata": {},
   "outputs": [],
   "source": [
    "n = # ...soluzione...\n",
    "e = # ...soluzione...\n",
    "\n",
    "lista = # ...soluzione...\n",
    "\n",
    "print(lista)"
   ]
  }
 ],
 "metadata": {
  "language_info": {
   "name": "python"
  }
 },
 "nbformat": 4,
 "nbformat_minor": 2
}
