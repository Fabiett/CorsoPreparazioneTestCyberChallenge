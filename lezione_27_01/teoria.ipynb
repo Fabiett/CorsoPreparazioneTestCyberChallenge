{
 "cells": [
  {
   "cell_type": "markdown",
   "metadata": {},
   "source": [
    "# Dizionari\n",
    "## Cosa sono i dizionari?\n",
    "\n",
    "I dizionari di Python sono una struttura dati che funziona in maniera molto simile alle liste, e che ci permette quindi di memorizzare più di un dato all'interno di una singola variabile.\n",
    "\n",
    "Per capire praticamente di cosa si parla quando ci riferiamo ai dizionari in python, e la loro differenza rispetto alle liste, possiamo immaginare di paragonarli a dei **vocabolari**.\\\n",
    "I vocabolari, infatti, sono anch'essi degli insiemi di dati: i nomi delle parole e i loro relativi significati. Questi dati sono collegati tra loro attraverso un meccanismo `chiave-valore`: a un singolo nome, che è quindi una chiave del dizionario, viene associata una descrizione, che è un valore del dizionario. Le chiavi del dizionario sono uniche: basti pensare a come, seguendo l'esempio del vocabolario, il nome di una parola è sempre unico e associato a un valore soltanto.\n",
    "\n",
    "Ma allora qual è la differenza tra dizionario e lista? Tralasciando le differenze sintattiche, la caratteristica fondamentale che li distingue è come vengono gestiti gli indici.\\\n",
    "Nelle liste, gli indici dei valori sono numerici e consecutivi. Per esempio, non posso scegliere di dare a un elemento di una lista l'indice `lista[1]`, se prima non è stato assegnato un elemento all'indice `lista[0]`, così come non posso scegliere di inserire un indice all'elemento `lista['indice']`.\\\n",
    "Al contrario, nei dizionari possiamo scegliere **indici di qualsiasi tipo**, a patto che si tratti di un tipo di dato **immutabile** (per esempio, non possiamo assegnare all'elemento `'ciao'` una chiave che sia una lista, tipo `[1,2,3]`, proprio perché la lista è un dato mutabile)"
   ]
  },
  {
   "cell_type": "markdown",
   "metadata": {},
   "source": [
    "## Sintassi dei dizionari\n",
    "Per definire un dizionario in Python abbiamo due possibilità. La prima è quella di utilizzare il metodo `dict()`, mentre la seconda è quella di usare una `coppia di parentesi graffe {}`."
   ]
  },
  {
   "cell_type": "code",
   "execution_count": null,
   "metadata": {},
   "outputs": [],
   "source": [
    "# queste due scritture hanno lo stesso significato\n",
    "vocabolario = dict()\n",
    "vocabolario = {}"
   ]
  },
  {
   "cell_type": "markdown",
   "metadata": {},
   "source": [
    "Se invece vogliamo Python sono una struttura dati che funziona in maniera molto simile alle liste, e che ci permette quindi di memorizzare più di un dato all'interno di una singola variabile con questa sintassi che è quasi identica a quella delle liste:"
   ]
  },
  {
   "cell_type": "code",
   "execution_count": null,
   "metadata": {},
   "outputs": [],
   "source": [
    "vocabolario['Cane'] = 'Il cane è un mammifero domestico a quattro zampe'\n",
    "print(vocabolario)"
   ]
  },
  {
   "cell_type": "markdown",
   "metadata": {},
   "source": [
    "Come detto, non è possibile aggiungere a un dizionario un valore con una chiave di tipo lista. Una scrittura di questo genere restituisce errore:"
   ]
  },
  {
   "cell_type": "code",
   "execution_count": null,
   "metadata": {},
   "outputs": [],
   "source": [
    "vocabolario[['Cane', 'Gatto']] = 'Il cane e il gatto sono entrambi dei mammiferi'"
   ]
  },
  {
   "cell_type": "markdown",
   "metadata": {},
   "source": [
    "Per quanto riguarda i valori dei dizionari, invece, non abbiamo vincoli di alcun tipo. Questo significa che una scrittura del genere è assolutamente legittima:"
   ]
  },
  {
   "cell_type": "code",
   "execution_count": null,
   "metadata": {},
   "outputs": [],
   "source": [
    "# la parola 'cane' può avere più significati, quindi li inseriamo tutti dentro una lista\n",
    "vocabolario['Cane'] = [\n",
    "    'Il cane è un mammifero domestico a quattro zampe',\n",
    "    'In senso figurato la parola cane indica una persona di animo cattivo, spietato'\n",
    "    ]"
   ]
  },
  {
   "cell_type": "markdown",
   "metadata": {},
   "source": [
    "Se vogliamo stampare un singolo elemento di un dizionario, non dobbiamo fare altro che specificarne la chiave:"
   ]
  },
  {
   "cell_type": "code",
   "execution_count": null,
   "metadata": {},
   "outputs": [],
   "source": [
    "print(vocabolario['Cane'])"
   ]
  },
  {
   "cell_type": "markdown",
   "metadata": {},
   "source": [
    "## Funzioni dei dizionari\n",
    "\n",
    "Python fornisce alcune funzioni molto utili per la manipolazione dei dizionari che è bene conoscere.\n",
    "\n",
    "### `keys()` e `values()`\n",
    "Se vogliamo ottenere una lista di tutte le chiavi di un dizionario, possiamo utilizzare il metodo `dizionario.keys()`, che restituisce un dato simile ad una lista contenente tutte le chiavi.\n",
    "\n",
    "Analogamente al metodo `keys()`, `dizionario.values()` restituisce tutti i valori di un dizionario.\n",
    "\n",
    "**Attenzione**, il metodi non restituiscono direttamente delle liste, quindi è necessario effettuare una conversione attraverso la funzione `list()`"
   ]
  },
  {
   "cell_type": "code",
   "execution_count": null,
   "metadata": {},
   "outputs": [],
   "source": [
    "vocabolario['Gatto'] = 'Il gatto è un mammifero domestico a quattro zampe.'\n",
    "vocabolario['Cane'] = 'Il cane è un mammifero domestico a quattro zampe.'\n",
    "print('Chiavi del dizionario:', list(vocabolario.keys()))\n",
    "print('Valori del dizionario:', list(vocabolario.values()))"
   ]
  },
  {
   "cell_type": "markdown",
   "metadata": {},
   "source": [
    "### `in` e `len()`\n",
    "\n",
    "Possiamo verificare se una chiave è già presente all'interno di un dizionario utilizzando l'operatore `in`:"
   ]
  },
  {
   "cell_type": "code",
   "execution_count": null,
   "metadata": {},
   "outputs": [],
   "source": [
    "print('La parola \"Cane\" esiste?', 'Cane' in vocabolario)\n",
    "print('La parola \"Lupo\" esiste?', 'Lupo' in vocabolario)\n",
    "\n",
    "# per cercare un valore all'interno del dizionario, invece:\n",
    "print('Esiste una descrizione della parola \"Cane\"?', 'Il cane è un mammifero domestico a quattro zampe.' in vocabolario.values())\n",
    "print('Esiste una descrizione della parola \"Lupo\"?', 'Il lupo è un mammifero domestico a quattro zampe.' in vocabolario.values())"
   ]
  },
  {
   "cell_type": "markdown",
   "metadata": {},
   "source": [
    "Se invece vogliamo sapere quanti elementi sono presenti nel nostro dizionario, possiamo fare affidamento al metodo `len()`"
   ]
  },
  {
   "cell_type": "code",
   "execution_count": null,
   "metadata": {},
   "outputs": [],
   "source": [
    "print(\"Il vocabolario contiene\", len(vocabolario), \"elementi\")"
   ]
  },
  {
   "cell_type": "markdown",
   "metadata": {},
   "source": [
    "### `get()`, `del`, `pop()` e `clear()`\n",
    "\n",
    "La funzione `get()` ci permette di ottenere l'elemento di un dizionario a partire dalla sua chiave. Il suo vantaggio è che ci permette di specificare un **valore alternativo** nel caso in cui una chiave non fosse presente nel dizionario"
   ]
  },
  {
   "cell_type": "code",
   "execution_count": null,
   "metadata": {},
   "outputs": [],
   "source": [
    "print(\"Descrizione del cane:\", vocabolario.get('Cane', 'non ancora registrato'))\n",
    "print(\"Descrizione del lupo:\", vocabolario.get('Lupo', 'non ancora registrato'))"
   ]
  },
  {
   "cell_type": "markdown",
   "metadata": {},
   "source": [
    "Se vogliamo invece rimuovere un elemento da un dizionario, possiamo usare i metodi `del` e `pop()`. Entrambi ci permettono di elminare un elemento a scelta dal dizionario, con la differenza che `pop()` **restituisce l'elemento eliminato dopo l'operazione**.\n",
    "\n",
    "Per eliminare **tutti gli elementi da un dizionario**, usiamo il metodo `clear()`"
   ]
  },
  {
   "cell_type": "code",
   "execution_count": null,
   "metadata": {},
   "outputs": [],
   "source": [
    "vocabolario['Gatto'] = 'Il gatto è un mammifero domestico a quattro zampe.'\n",
    "vocabolario['Balena'] = 'La balena è un mammifero marino.'\n",
    "vocabolario['Lupo'] = 'Il lupo è un mammifero selvatico a quattro zampe.'\n",
    "\n",
    "print(\"Il vocabolario contiene\", len(vocabolario), \"elementi\")\n",
    "\n",
    "print(\"Elimino l'elemento 'Gatto'\")\n",
    "del vocabolario['Gatto']\n",
    "print(\"Il vocabolario contiene\", len(vocabolario), \"elementi\")\n",
    "\n",
    "print(\"Elimino l'elemento 'Balena'. Descrizione:\", vocabolario.pop('Balena'))\n",
    "print(\"Il vocabolario contiene\", len(vocabolario), \"elementi\")\n",
    "\n",
    "print(\"Pulisco il vocabolario\")\n",
    "vocabolario.clear()\n",
    "print(\"Il vocabolario contiene\", len(vocabolario), \"elementi\")"
   ]
  },
  {
   "cell_type": "markdown",
   "metadata": {},
   "source": [
    "### Iterare su un dizionario\n",
    "\n",
    "Per scorrere all'interno di tutti gli elementi di un dizionario possiamo fare ricorso all'istruzione `for`. Abbiamo visto che, per le liste, il costrutto può essere usato in questo modo, per esempio, per stampare tutti i valori in una lista:"
   ]
  },
  {
   "cell_type": "code",
   "execution_count": null,
   "metadata": {},
   "outputs": [],
   "source": [
    "lista = [1,2,3,4,5]\n",
    "for elemento in lista:\n",
    "    print(elemento)"
   ]
  },
  {
   "cell_type": "markdown",
   "metadata": {},
   "source": [
    "Python ci permette di utilizzare una **sintassi analoga** per i dizionari, solo che gli elementi che verranno stampati in questo modo non saranno i **valori** ma le **chiavi** del dizionario: "
   ]
  },
  {
   "cell_type": "code",
   "execution_count": null,
   "metadata": {},
   "outputs": [],
   "source": [
    "vocabolario['Cane'] = 'Il cane è un mammifero domestico a quattro zampe.'\n",
    "vocabolario['Balena'] = 'La balena è un mammifero marino.'\n",
    "vocabolario['Lupo'] = 'Il lupo è un mammifero selvatico a quattro zampe.'\n",
    "vocabolario['Gatto'] = 'Il gatto è un mammifero domestico a quattro zampe.'\n",
    "\n",
    "for vocabolo in vocabolario:\n",
    "    print(vocabolo)"
   ]
  },
  {
   "cell_type": "markdown",
   "metadata": {},
   "source": [
    "Se desideriamo invece scorrere attraverso i **valori**, possiamo usare la funzione `values()` vista in precedenza:"
   ]
  },
  {
   "cell_type": "code",
   "execution_count": null,
   "metadata": {},
   "outputs": [],
   "source": [
    "for descrizione in vocabolario.values():\n",
    "    print(descrizione)"
   ]
  },
  {
   "cell_type": "markdown",
   "metadata": {},
   "source": [
    "Se invece volessimo iterare **contemporaneamente** sui valori e sulle chiavi di un dizionario, Python mette a disposizione il metodo `items()`, che restituisce le coppie `chiave-valore` di tutto il dizionario. Per esempio:"
   ]
  },
  {
   "cell_type": "code",
   "execution_count": null,
   "metadata": {},
   "outputs": [],
   "source": [
    "for vocabolo, descrizione in vocabolario.items():\n",
    "    print(f\"Descrizione del {vocabolo}:\", descrizione)"
   ]
  },
  {
   "cell_type": "markdown",
   "metadata": {},
   "source": [
    "# Funzioni\n",
    "\n",
    "Come qualsiasi altro linguaggio di programmazione, anche Python permette di scrivere delle **funzioni** per semplificare e ripulire il nostro codice.\n",
    "\n",
    "Le funzioni sono dei costrutti che ci permettono di \"raggruppare\" un pezzo di codice che esegue una certa istruzione, in modo da poterlo poi **rieseguire successivamente** senza necessità di copiarlo e incollarlo di nuovo. Le funzioni sono molto utili perché aumentano notevolmente la **mantenibilità** e la **leggibilità** del codice.\n",
    "\n",
    "## Sintassi delle funzioni\n",
    "Prendiamo il caso, per esempio, di voler scrivere un programma che **calcoli la somma di tutti i numeri pari fino a un certo numero `n`**. Si tratta di un programma molto semplice, che può essere scritto in questo modo:"
   ]
  },
  {
   "cell_type": "code",
   "execution_count": null,
   "metadata": {},
   "outputs": [],
   "source": [
    "n = int(input(\"Inserisci il numero fino a cui calcolare la somma: \"))\n",
    "sum = 0\n",
    "\n",
    "# iteriamo fino al numero n\n",
    "for numero in range(n + 1):\n",
    "    # verifichiamo che il numero sia pari\n",
    "    if numero % 2 == 0:\n",
    "        sum += numero\n",
    "\n",
    "print(f\"La somma dei primi {n} numeri pari è {sum}\")"
   ]
  },
  {
   "cell_type": "markdown",
   "metadata": {},
   "source": [
    "Mettiamo il caso, adesso, di voler scrivere un programma più generale che calcoli la somma dei primi numeri `n` divisibili **per un altro numero `p`**. Dato che il meccanismo per capire se un numero è divisibile per un altro è sempre lo stesso (verificare il resto della divisione), potremmo creare una **seconda funzione** adibita semplicemente alla verifica di questa proprietà, che chiameremo, per esempio, `nDividesP(n, p)`. In questo caso, `n` e `p` sono detti **argomenti della funzione**, e saranno quindi ogni volta i due numeri che vogliamo verificare siano divisibili tra loro. Per esempio, se eseguissimo `nDividesP(4, 2)`, significa che vogliamo sapere se `4` è divisibile per `2`.\n",
    "\n",
    "Una volta definita quella che si chiama `signature` di una funzione (ossia il nome e la lista dei parametri), non dobbiamo fare altro che scrivere il codice che questa deve eseguire. La sintassi di Python per la **definizione di una funzione** è la seguente:"
   ]
  },
  {
   "cell_type": "code",
   "execution_count": null,
   "metadata": {},
   "outputs": [],
   "source": [
    "def nDividesP(n, p):\n",
    "    if n % p == 0:\n",
    "        return True\n",
    "    return False\n",
    "\n",
    "print(\"4 divide 5?\", nDividesP(4, 5))\n",
    "print(\"4 divide 2?\", nDividesP(4, 2))"
   ]
  },
  {
   "cell_type": "markdown",
   "metadata": {},
   "source": [
    "Per eseguire una funzione, invece, è sufficiente scriverne il nome e inserire tra parentesi tonde tutti gli argomenti necessari (possono anche non essercene, in quel caso la funzione si esegue scrivendo solo `nomeFunzione()`)"
   ]
  },
  {
   "cell_type": "markdown",
   "metadata": {},
   "source": [
    "La keyword `return` termina l'esecuzione della funzione **restituendo** il valore calcolato. Nel caso di `nDividesP(4, 2)`, per esempio, la funzione terminerà restituendo il valore `True`. Il risultato restituito da una funzione può essere trattato come un qualsiasi dato, e possiamo quindi inserirlo in una **variabile**, utilizzarlo in un `if` e qualsiasi altra cosa.\n",
    "\n",
    "Adesso, possiamo riscrivere il programma precedente usando questa nuova funzione:"
   ]
  },
  {
   "cell_type": "code",
   "execution_count": null,
   "metadata": {},
   "outputs": [],
   "source": [
    "def nDividesP(n, p):\n",
    "    # l'if è superfluo!\n",
    "    # if n % p == 0:\n",
    "    #    return True\n",
    "    # return False\n",
    "    return n % p == 0\n",
    "\n",
    "n = int(input(\"Inserisci il numero fino a cui calcolare la somma: \"))\n",
    "p = int(input(\"Inserisci il numero per cui verificare la divisibilità: \"))\n",
    "\n",
    "sum = 0\n",
    "for numero in range(n + 1):\n",
    "    # aggiungiamo la funzione appena definita\n",
    "    if nDividesP(numero, p):\n",
    "        sum += numero\n",
    "\n",
    "print(f\"La somma dei primi {n} numeri divisibili per {p} è {sum}\")"
   ]
  },
  {
   "cell_type": "markdown",
   "metadata": {},
   "source": [
    "Volendo, possiamo inserire tutto il codice all'interno di una singola funzione!"
   ]
  },
  {
   "cell_type": "code",
   "execution_count": null,
   "metadata": {},
   "outputs": [],
   "source": [
    "def nDividesP(n, p):\n",
    "    # l'if è superfluo!\n",
    "    # if n % p == 0:\n",
    "    #    return True\n",
    "    # return False\n",
    "    return n % p == 0\n",
    "\n",
    "def sumDivisible(n, p):\n",
    "    sum = 0\n",
    "    for numero in range(n + 1):\n",
    "        # aggiungiamo la funzione appena definita\n",
    "        if nDividesP(numero, p):\n",
    "            sum += numero\n",
    "    return sum\n",
    "\n",
    "n = int(input(\"Inserisci il numero fino a cui calcolare la somma: \"))\n",
    "p = int(input(\"Inserisci il numero per cui verificare la divisibilità: \"))\n",
    "\n",
    "print(f\"La somma dei primi {n} numeri divisibili per {p} è\", sumDivisible(n, p))"
   ]
  },
  {
   "cell_type": "markdown",
   "metadata": {},
   "source": [
    "# List Comprehension\n",
    "\n",
    "Un argomento assolutamente unico di Python è quello delle `list comprehension`. La meccanica generale in realtà è chiamata solamente `comprehension` ed è applicabile ad ogni tipo di dato (anche i dizionari), ma in questo contesto la vedremo utilizzata semplicemente per le liste.\n",
    "\n",
    "La `list comprehension` è un costrutto sintattico di python che permette di generare una lista in maniera **estremamente semplice** e con **pochissime righe di codice**. Ragionando per esempi, supponiamo di voler inizializzare una lista con **10 elementi**, tutti pari a `0`.\n",
    "\n",
    "Senza utilizzare le `list comprehension`, abbiamo bisogno di un ciclo `for`:"
   ]
  },
  {
   "cell_type": "code",
   "execution_count": null,
   "metadata": {},
   "outputs": [],
   "source": [
    "lista = []\n",
    "for numero in range(10):\n",
    "    lista.append(0)\n",
    "print(lista)"
   ]
  },
  {
   "cell_type": "markdown",
   "metadata": {},
   "source": [
    "Tuttavia, possiamo utilizzare questa sintassi speciale per accorciare il codice in una sola linea, in questo modo:"
   ]
  },
  {
   "cell_type": "code",
   "execution_count": null,
   "metadata": {},
   "outputs": [],
   "source": [
    "lista = [0 for numero in range(10)]"
   ]
  },
  {
   "cell_type": "markdown",
   "metadata": {},
   "source": [
    "Le `list comprehension` permettono esattamente di creare una lista a partire da un `ciclo for`, senza bisogno di inizializzare prima la lista vuota e poi riempirla, ma accorciando tutto in una sola istruzione. Ovviamente, la potenza delle `list comprehension` non si limita qui.\n",
    "\n",
    "Prendiamo ora un esempio più complesso: vogliamo creare un array di 10 elementi, inserendo l'elemento `pari` nelle posizioni degli indici pari, e `dispari` nelle posizioni degli indici dispari. Abbiamo quindi bisogno di un `if-else`"
   ]
  },
  {
   "cell_type": "code",
   "execution_count": null,
   "metadata": {},
   "outputs": [],
   "source": [
    "lista = []\n",
    "for numero in range(10):\n",
    "    if numero % 2 == 0:\n",
    "        lista.append('pari')\n",
    "    else:\n",
    "        lista.append('dispari')\n",
    "print(lista)"
   ]
  },
  {
   "cell_type": "markdown",
   "metadata": {},
   "source": [
    "Ma le list comprehension accettano anche la possibilità di inserire un costrutto `if-else`! Quindi il codice diventa:"
   ]
  },
  {
   "cell_type": "code",
   "execution_count": null,
   "metadata": {},
   "outputs": [],
   "source": [
    "lista = ['pari' if numero % 2 == 0 else 'dispari' for numero in range(10)]\n",
    "print(lista)"
   ]
  },
  {
   "cell_type": "markdown",
   "metadata": {},
   "source": [
    "# Funzioni utili e Trucchetti\n",
    "\n",
    "Il punto forte di un linguaggio come Python è proprio che possiede tantissimi accorgimenti per facilitare incredibilmente la risoluzioni di moltissimi problemi comuni che si possono incontrare nella risoluzione di un problema. In questa sezione faremo qualche esempio che potrebbe tornare utile al test di programmazione.\n",
    "\n",
    "## Rimozione dei duplicati da una lista\n",
    "Spesso può essere necessario ottenere una copia di una lista di elementi **senza** che compaiano elementi **duplicati**. Effettuare questa operazione in Python è molto semplice, perché possiamo utilizzare la struttura dati `set`.\n",
    "\n",
    "Un `set` non è altro che una lista che però **non può contenere elementi duplicati**, ed è **immutabile** (non può essere modificato). Dato che Python possiede un metodo `set()` che permette di convertire una lista in set, possiamo effettuare una **doppia conversione**: `list -> set` e `set -> list`, così da eliminare tutti i duplicati. Per esempio:"
   ]
  },
  {
   "cell_type": "code",
   "execution_count": null,
   "metadata": {},
   "outputs": [],
   "source": [
    "duplicati = ['mela', 'pera', 'banana', 'mela', 'albicocca', 'pesca', 'banana']\n",
    "\n",
    "print(\"Lista originale:\", duplicati)\n",
    "print(\"Lista senza duplicati:\", list(set(duplicati)))"
   ]
  },
  {
   "cell_type": "markdown",
   "metadata": {},
   "source": [
    "## Somma di una lista di numeri\n",
    "\n",
    "Un'altra funzione che ci permette di facilitare enormemente diversi problemi è `sum()`, che restituisce la somma di tutti i numeri presenti all'interno di una lista. Senza l'utilizzo della funzione `sum()`, per eseguire una somma di tutti i valori di una lista sarebbe necessario fare:"
   ]
  },
  {
   "cell_type": "code",
   "execution_count": null,
   "metadata": {},
   "outputs": [],
   "source": [
    "lista = [1,4,6,9,2,3,5,7,8]\n",
    "somma = 0\n",
    "for numero in lista:\n",
    "    somma += numero\n",
    "print(\"La somma degli elementi della lista è\", somma)"
   ]
  },
  {
   "cell_type": "markdown",
   "metadata": {},
   "source": [
    "Ma utilizzando la funzione `sum()`, possiamo semplicemente scrivere:"
   ]
  },
  {
   "cell_type": "code",
   "execution_count": null,
   "metadata": {},
   "outputs": [],
   "source": [
    "print(\"La somma degli elementi della lista è\", sum(lista))"
   ]
  },
  {
   "cell_type": "markdown",
   "metadata": {},
   "source": [
    "## Minimo e Massimo di una lista di numeri\n",
    "\n",
    "Due altre funzioni estremamente versatili sono la coppia `min()` e `max()` che, data una lista, restituiscono il minimo e il massimo numero presenti all'interno della lista stessa. Per esempio:"
   ]
  },
  {
   "cell_type": "code",
   "execution_count": null,
   "metadata": {},
   "outputs": [],
   "source": [
    "lista = [1,4,6,9,2,3,5,7,8,10,12,21,34,55,89]\n",
    "print(\"L'elemento più piccolo della lista è\", min(lista))\n",
    "print(\"L'elemento più grande della lista è\", max(lista))"
   ]
  },
  {
   "cell_type": "markdown",
   "metadata": {},
   "source": [
    "## Ordinare una lista, `sort()` e `sorted()`\n",
    "\n",
    "Come vedremo negli esercizi dei pretest, può essere spesso utile e necessario ordinare una lista di interi o di qualsiasi tipo di dato per diverse ragioni. Python mette a disposizione in particolare due funzioni, ovvero `sort()` e `sorted()`.\n",
    "\n",
    "Le funzioni sono sostanzialmente identiche, poiché la sola differenza consiste nel fatto che `sort()` **modifica la lista fornita** e non restituisce nulla, mentre `sorted()` **crea una seconda lista ordinata e la restituisce come risultato**. Facendo un esempio:"
   ]
  },
  {
   "cell_type": "code",
   "execution_count": null,
   "metadata": {},
   "outputs": [],
   "source": [
    "lista_interi = [5, 2, 8, 1, 9, 3, 7, 4, 6, 10]\n",
    "lista_frutti = ['mela', 'banana', 'arancia', 'uva', 'mango', 'kiwi', 'pera', 'ananas', 'anguria', 'fragola']\n",
    "\n",
    "print(\"Lista interi ordinati in maniera ascendente:\", sorted(lista_interi))\n",
    "print(\"Lista frutti ordinati in maniera ascendente:\", sorted(lista_frutti))\n",
    "\n",
    "lista_interi.sort()\n",
    "lista_frutti.sort()\n",
    "\n",
    "print(\"Lista di interi dopo il sort:\", lista_interi)\n",
    "print(\"Lista di frutti dopo il sort:\", lista_frutti)\n"
   ]
  },
  {
   "cell_type": "markdown",
   "metadata": {},
   "source": [
    "Se vogliamo invertire l'ordine in maniera _discendente_, dobbiamo specificare il parametro `reverse=True`"
   ]
  },
  {
   "cell_type": "code",
   "execution_count": null,
   "metadata": {},
   "outputs": [],
   "source": [
    "lista_interi = [5, 2, 8, 1, 9, 3, 7, 4, 6, 10]\n",
    "lista_frutti = ['mela', 'banana', 'arancia', 'uva', 'mango', 'kiwi', 'pera', 'ananas', 'anguria', 'fragola']\n",
    "\n",
    "print(\"Lista interi ordinati in maniera discendente:\", sorted(lista_interi, reverse=True))\n",
    "print(\"Lista frutti ordinati in maniera discendente:\", sorted(lista_frutti, reverse=True))"
   ]
  },
  {
   "cell_type": "markdown",
   "metadata": {},
   "source": [
    "## Modificare tutti gli elementi di una lista con `map()` e `filter()`\n",
    "\n",
    "Infine, due funzioni che possono tornare spesso utili negli esercizi del test sono `map()` e `filter()`.\n",
    "\n",
    "La funzione `filter()` è molto semplice: permette di **eliminare da una lista degli elementi sulla base di una certa caratteristica**. Accetta due parametri: il **filtro** che deve essere applicato alla lista, sotto forma di una **funzione**, e la lista da filtrare, e restituisce una lista filtrata dai valori indesiderati.\n",
    "\n",
    "Per esempio, se volessimo filtrare da una lista **tutti i numeri negativi** dovremmo, come prima cosa, definire una funzione filtro `isPositive(x)`, che restituisce `True` se un `x` è positivo e `False` altrimenti. In questo modo, la funzione `filter()` non farà altro che applicare `isPositive()` su ogni elemento, scartando quelli per i quali la funzione restituisce il valore `False`:"
   ]
  },
  {
   "cell_type": "code",
   "execution_count": null,
   "metadata": {},
   "outputs": [],
   "source": [
    "def isPositive(x):\n",
    "    return x > 0\n",
    "\n",
    "numeri = [23, -45, 12, -34, 56, -7, 18, -29, 41, -50, 9, -15, 37, -2, 51]\n",
    "\n",
    "numeri_positivi = filter(isPositive, numeri)\n",
    "\n",
    "# anche filter() non restituisce una lista, quindi dobbiamo usare list()!\n",
    "print(\"Lista di numeri positivi:\", list(numeri_positivi))"
   ]
  },
  {
   "cell_type": "markdown",
   "metadata": {},
   "source": [
    "La funzione `map()`, invece, si occupa di **applicare una funzione su ogni singolo elemento della lista**.\n",
    "\n",
    "La funzione accetta, anche qui, **due parametri**: il primo è la **funzione** da applicare su ogni valore della lista, e il secondo è la lista stessa.\n",
    "\n",
    "Prendiamo per esempio un caso tipico nei problemi del pretest: disponiamo di una **lista di numeri**, che però sono scritti sotto forma di **stringhe**, piuttosto che di **interi**. Possiamo convertirli tutti quanti in questo modo:"
   ]
  },
  {
   "cell_type": "code",
   "execution_count": null,
   "metadata": {},
   "outputs": [],
   "source": [
    "numeri = [\"23\", \"-45\", \"12\", \"-34\", \"56\", \"-7\", \"18\", \"-29\"]\n",
    "\n",
    "numeri_interi = map(int, numeri)\n",
    "\n",
    "# anche map() non restituisce una lista, quindi dobbiamo usare list()!\n",
    "print(\"Somma della lista di numeri interi:\", sum(list(numeri_interi)))"
   ]
  },
  {
   "cell_type": "markdown",
   "metadata": {},
   "source": [
    "Anche qui, se vogliamo possiamo anche applicare una funzione personalizzata. Questo programma, per esempio, restituisce una lista di nomi di frutti togliendo a tutti **solo l'ultima lettera**"
   ]
  },
  {
   "cell_type": "code",
   "execution_count": null,
   "metadata": {},
   "outputs": [],
   "source": [
    "def rimuoviUltimaLettera(stringa):\n",
    "    return stringa[:-1]\n",
    "\n",
    "frutti = ['mela', 'banana', 'arancia', 'uva', 'mango', 'kiwi', 'pera']\n",
    "\n",
    "frutti_senza_ultima_lettera = map(rimuoviUltimaLettera, frutti)\n",
    "\n",
    "print(\"Lista di frutti senza l'ultima lettera:\", list(frutti_senza_ultima_lettera))"
   ]
  }
 ],
 "metadata": {
  "kernelspec": {
   "display_name": "Python 3",
   "language": "python",
   "name": "python3"
  },
  "language_info": {
   "codemirror_mode": {
    "name": "ipython",
    "version": 3
   },
   "file_extension": ".py",
   "mimetype": "text/x-python",
   "name": "python",
   "nbconvert_exporter": "python",
   "pygments_lexer": "ipython3",
   "version": "3.11.6"
  }
 },
 "nbformat": 4,
 "nbformat_minor": 2
}
