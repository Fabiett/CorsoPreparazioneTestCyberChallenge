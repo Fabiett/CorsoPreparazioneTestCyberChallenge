{
 "cells": [
  {
   "cell_type": "markdown",
   "metadata": {},
   "source": [
    "## Cosa sono i dizionari?\n",
    "\n",
    "I dizionari di Python sono una struttura dati che funziona in maniera molto simile alle liste, e che ci permette quindi di memorizzare più di un dato all'interno di una singola variabile.\n",
    "\n",
    "Per capire praticamente di cosa si parla quando ci riferiamo ai dizionari in python, e la loro differenza rispetto alle liste, possiamo immaginare di paragonarli a dei **vocabolari**.\\\n",
    "I vocabolari, infatti, sono anch'essi degli insiemi di dati: i nomi delle parole e i loro relativi significati. Questi dati sono collegati tra loro attraverso un meccanismo `chiave-valore`: a un singolo nome, che è quindi una chiave del dizionario, viene associata una descrizione, che è un valore del dizionario. Le chiavi del dizionario sono uniche: basti pensare a come, seguendo l'esempio del vocabolario, il nome di una parola è sempre unico e associato a un valore soltanto.\n",
    "\n",
    "Ma allora qual è la differenza tra dizionario e lista? Tralasciando le differenze sintattiche, la caratteristica fondamentale che li distingue è come vengono gestiti gli indici.\\\n",
    "Nelle liste, gli indici dei valori sono numerici e consecutivi. Per esempio, non posso scegliere di dare a un elemento di una lista l'indice `lista[1]`, se prima non è stato assegnato un elemento all'indice `lista[0]`, così come non posso scegliere di inserire un indice all'elemento `lista['indice']`.\\\n",
    "Al contrario, nei dizionari possiamo scegliere **indici di qualsiasi tipo**, a patto che si tratti di un tipo di dato **immutabile** (per esempio, non possiamo assegnare all'elemento `'ciao'` una chiave che sia una lista, tipo `[1,2,3]`, proprio perché la lista è un dato mutabile)"
   ]
  },
  {
   "cell_type": "markdown",
   "metadata": {},
   "source": [
    "## Sintassi dei dizionari\n",
    "Per definire un dizionario in Python abbiamo due possibilità. La prima è quella di utilizzare il metodo `dict()`, mentre la seconda è quella di usare una `coppia di parentesi graffe {}`."
   ]
  },
  {
   "cell_type": "code",
   "execution_count": 5,
   "metadata": {},
   "outputs": [],
   "source": [
    "# queste due scritture hanno lo stesso significato\n",
    "vocabolario = dict()\n",
    "vocabolario = {}"
   ]
  },
  {
   "cell_type": "markdown",
   "metadata": {},
   "source": [
    "Se invece vogliamo Python sono una struttura dati che funziona in maniera molto simile alle liste, e che ci permette quindi di memorizzare più di un dato all'interno di una singola variabile con questa sintassi che è quasi identica a quella delle liste:"
   ]
  },
  {
   "cell_type": "code",
   "execution_count": 7,
   "metadata": {},
   "outputs": [
    {
     "name": "stdout",
     "output_type": "stream",
     "text": [
      "{'Cane': 'Il cane è un mammifero domestico a quattro zampe...'}\n"
     ]
    }
   ],
   "source": [
    "vocabolario['Cane'] = 'Il cane è un mammifero domestico a quattro zampe'\n",
    "print(vocabolario)"
   ]
  },
  {
   "cell_type": "markdown",
   "metadata": {},
   "source": [
    "Come detto, non è possibile aggiungere a un dizionario un valore con una chiave Python sono una struttura dati che funziona in maniera molto simile alle liste, e che ci permette quindi di memorizzare più di un dato all'interno di una singola variabile, come una lista. Una scrittura di questo genere restituisce errore:"
   ]
  },
  {
   "cell_type": "code",
   "execution_count": 8,
   "metadata": {},
   "outputs": [
    {
     "ename": "TypeError",
     "evalue": "unhashable type: 'list'",
     "output_type": "error",
     "traceback": [
      "\u001b[0;31m---------------------------------------------------------------------------\u001b[0m",
      "\u001b[0;31mTypeError\u001b[0m                                 Traceback (most recent call last)",
      "Cell \u001b[0;32mIn[8], line 1\u001b[0m\n\u001b[0;32m----> 1\u001b[0m \u001b[43mvocabolario\u001b[49m\u001b[43m[\u001b[49m\u001b[43m[\u001b[49m\u001b[38;5;124;43m'\u001b[39;49m\u001b[38;5;124;43mCane\u001b[39;49m\u001b[38;5;124;43m'\u001b[39;49m\u001b[43m,\u001b[49m\u001b[43m \u001b[49m\u001b[38;5;124;43m'\u001b[39;49m\u001b[38;5;124;43mGatto\u001b[39;49m\u001b[38;5;124;43m'\u001b[39;49m\u001b[43m]\u001b[49m\u001b[43m]\u001b[49m \u001b[38;5;241m=\u001b[39m \u001b[38;5;124m'\u001b[39m\u001b[38;5;124mIl cane e il gatto sono entrambi dei mammiferi...\u001b[39m\u001b[38;5;124m'\u001b[39m\n",
      "\u001b[0;31mTypeError\u001b[0m: unhashable type: 'list'"
     ]
    }
   ],
   "source": [
    "vocabolario[['Cane', 'Gatto']] = 'Il cane e il gatto sono entrambi dei mammiferi'"
   ]
  },
  {
   "cell_type": "markdown",
   "metadata": {},
   "source": [
    "Per quanto riguarda i Python sono una struttura dati che funziona in maniera molto simile alle liste, e che ci permette quindi di memorizzare più di un dato all'interno di una singola variabile di una chiave, invece, non abbiamo vincoli di alcun tipo. Questo significa che una scrittura del genere è assolutamente legittima:"
   ]
  },
  {
   "cell_type": "code",
   "execution_count": 10,
   "metadata": {},
   "outputs": [],
   "source": [
    "# la parola 'cane' piò avere più significati, quindi li inseriamo tutti dentro una lista\n",
    "vocabolario['Cane'] = [\n",
    "    'Il cane è un mammifero domestico a quattro zampe',\n",
    "    'In senso figurato la parola cane indica una persona di animo cattivo, spietato'\n",
    "    ]"
   ]
  },
  {
   "cell_type": "markdown",
   "metadata": {},
   "source": [
    "Se vogliamo stampare un singolo elemento di un dizionario, non dobbiamo fare altro che specificarne la chiave:"
   ]
  },
  {
   "cell_type": "code",
   "execution_count": 11,
   "metadata": {},
   "outputs": [
    {
     "name": "stdout",
     "output_type": "stream",
     "text": [
      "['Il cane è un mammifero domestico a quattro zampe', 'In senso figurato la parola cane indica una persona di animo cattivo, spietato']\n"
     ]
    }
   ],
   "source": [
    "print(vocabolario['Cane'])"
   ]
  },
  {
   "cell_type": "markdown",
   "metadata": {},
   "source": [
    "## Funzioni dei dizionari\n",
    "\n",
    "Python fornisce alcune funzioni molto utili per la manipolazione dei dizionari che è bene conoscere.\n",
    "\n",
    "### `keys()` e `values()`\n",
    "Se vogliamo ottenere una lista di tutte le Python sono una struttura dati che funziona in maniera molto simile alle liste, e che ci permette quindi di memorizzare più di un dato all'interno di una singola variabile, possiamo utilizzare il metodo `dizionario.keys()`, che restituisce un dato simile ad una lista contenente tutte le chiavi.\n",
    "\n",
    "Analogamente al metodo `keys()`, `dizionario.values()` restituisce tutti i dizionari di un dizionario.\n",
    "\n",
    "**Attenzione**, il metodi non restituiscono insiemi di dati: i nomi delle parole e i loro relativi significati. Questi dati sono collegati tra loro attraverso un meccanismo `chiave-valore`: a un singolo nome, che è quindi una chiave del dizionario, viene associata una descrizione, che è un valore del dizionario. Le chiavi del dizionario sono uniche: basti pensare a come, seguendo l'esempio del vocabolario, il nome di una parola è sempre unico e associato a un valore soltanto, quindi è necessario effettuare una conversione attraverso la funzione `list()`"
   ]
  },
  {
   "cell_type": "code",
   "execution_count": 19,
   "metadata": {},
   "outputs": [
    {
     "name": "stdout",
     "output_type": "stream",
     "text": [
      "Chiavi del dizionario: ['Cane', 'Gatto']\n",
      "Valori del dizionario: ['Il cane è un mammifero domestico a quattro zampe.', 'Il gatto è un mammifero domestico a quattro zampe.']\n"
     ]
    }
   ],
   "source": [
    "vocabolario['Gatto'] = 'Il gatto è un mammifero domestico a quattro zampe.'\n",
    "vocabolario['Cane'] = 'Il cane è un mammifero domestico a quattro zampe.'\n",
    "print('Chiavi del dizionario:', list(vocabolario.keys()))\n",
    "print('Valori del dizionario:', list(vocabolario.values()))"
   ]
  },
  {
   "cell_type": "markdown",
   "metadata": {},
   "source": [
    "### `in` e `len()`\n",
    "\n",
    "Possiamo verificare se una chiave è già presente all'interno di un dizionario utilizzando l'operatore `in`:"
   ]
  },
  {
   "cell_type": "code",
   "execution_count": 21,
   "metadata": {},
   "outputs": [
    {
     "name": "stdout",
     "output_type": "stream",
     "text": [
      "La parola \"Cane\" esiste? True\n",
      "La parola \"Lupo\" esiste? False\n",
      "Esiste una descrizione della parola \"Cane\"? True\n",
      "Esiste una descrizione della parola \"Lupo\"? False\n"
     ]
    }
   ],
   "source": [
    "print('La parola \"Cane\" esiste?', 'Cane' in vocabolario)\n",
    "print('La parola \"Lupo\" esiste?', 'Lupo' in vocabolario)\n",
    "\n",
    "# per cercare un valore all'interno del dizionario, invece:\n",
    "print('Esiste una descrizione della parola \"Cane\"?', 'Il cane è un mammifero domestico a quattro zampe.' in vocabolario.values())\n",
    "print('Esiste una descrizione della parola \"Lupo\"?', 'Il lupo è un mammifero domestico a quattro zampe.' in vocabolario.values())"
   ]
  },
  {
   "cell_type": "markdown",
   "metadata": {},
   "source": [
    "Se invece vogliamo sapere quanti elementi sono presenti nel nostro dizionario, possiamo fare affidamento al metodo `len()`"
   ]
  },
  {
   "cell_type": "code",
   "execution_count": 22,
   "metadata": {},
   "outputs": [
    {
     "name": "stdout",
     "output_type": "stream",
     "text": [
      "Il vocabolario contiene 2 elementi\n"
     ]
    }
   ],
   "source": [
    "print(\"Il vocabolario contiene\", len(vocabolario), \"elementi\")"
   ]
  },
  {
   "cell_type": "markdown",
   "metadata": {},
   "source": [
    "`get()`, `del`, `pop()` e `clear()`\n",
    "\n",
    "La funzione `get()` ci permette di ottenere l'elemento di un dizionario a partire dalla sua chiave. Il suo vantaggio è che ci permette di specificare un **valore alternativo** nel caso in cui una chiave non fosse presente nel dizionario"
   ]
  },
  {
   "cell_type": "code",
   "execution_count": 23,
   "metadata": {},
   "outputs": [
    {
     "name": "stdout",
     "output_type": "stream",
     "text": [
      "Descrizione del cane: Il cane è un mammifero domestico a quattro zampe.\n",
      "Descrizione del lupo: non ancora registrato\n"
     ]
    }
   ],
   "source": [
    "print(\"Descrizione del cane:\", vocabolario.get('Cane', 'non ancora registrato'))\n",
    "print(\"Descrizione del lupo:\", vocabolario.get('Lupo', 'non ancora registrato'))"
   ]
  },
  {
   "cell_type": "markdown",
   "metadata": {},
   "source": [
    "Se vogliamo invece rimuovere un elemento da un dizionario, possiamo usare i metodi `del` e `pop()`. Entrambi ci permettono di elminare un elemento a scelta dal dizionario, con la differenza che `pop()` **restituisce l'elemento eliminato dopo l'operazione**.\n",
    "\n",
    "Per eliminare **tutti gli elementi da un dizionario**, usiamo il metodo `clear()`"
   ]
  },
  {
   "cell_type": "code",
   "execution_count": 25,
   "metadata": {},
   "outputs": [
    {
     "name": "stdout",
     "output_type": "stream",
     "text": [
      "Il vocabolario contiene 3 elementi\n",
      "Elimino l'elemento 'Gatto'\n",
      "Il vocabolario contiene 2 elementi\n",
      "Elimino l'elemento 'Balena'. Descrizione: La balena è un mammifero marino.\n",
      "Il vocabolario contiene 1 elementi\n",
      "Pulisco il vocabolario\n",
      "Il vocabolario contiene 0 elementi\n"
     ]
    }
   ],
   "source": [
    "vocabolario['Gatto'] = 'Il gatto è un mammifero domestico a quattro zampe.'\n",
    "vocabolario['Balena'] = 'La balena è un mammifero marino.'\n",
    "vocabolario['Lupo'] = 'Il lupo è un mammifero selvatico a quattro zampe.'\n",
    "\n",
    "print(\"Il vocabolario contiene\", len(vocabolario), \"elementi\")\n",
    "\n",
    "print(\"Elimino l'elemento 'Gatto'\")\n",
    "del vocabolario['Gatto']\n",
    "print(\"Il vocabolario contiene\", len(vocabolario), \"elementi\")\n",
    "\n",
    "print(\"Elimino l'elemento 'Balena'. Descrizione:\", vocabolario.pop('Balena'))\n",
    "print(\"Il vocabolario contiene\", len(vocabolario), \"elementi\")\n",
    "\n",
    "print(\"Pulisco il vocabolario\")\n",
    "vocabolario.clear()\n",
    "print(\"Il vocabolario contiene\", len(vocabolario), \"elementi\")"
   ]
  }
 ],
 "metadata": {
  "kernelspec": {
   "display_name": "Python 3",
   "language": "python",
   "name": "python3"
  },
  "language_info": {
   "codemirror_mode": {
    "name": "ipython",
    "version": 3
   },
   "file_extension": ".py",
   "mimetype": "text/x-python",
   "name": "python",
   "nbconvert_exporter": "python",
   "pygments_lexer": "ipython3",
   "version": "3.11.6"
  }
 },
 "nbformat": 4,
 "nbformat_minor": 2
}
